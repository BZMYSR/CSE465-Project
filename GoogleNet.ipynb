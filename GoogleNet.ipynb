{
 "cells": [
  {
   "cell_type": "markdown",
   "id": "600f3da2",
   "metadata": {},
   "source": [
    "## GoogleNet - InceptionV3\n"
   ]
  },
  {
   "cell_type": "markdown",
   "id": "239f3871",
   "metadata": {},
   "source": [
    "### Importing Libraries"
   ]
  },
  {
   "cell_type": "code",
   "execution_count": null,
   "id": "5c7fda1b",
   "metadata": {},
   "outputs": [],
   "source": [
    "import tensorflow as tf\n",
    "from tensorflow.keras.preprocessing.image import ImageDataGenerator\n",
    "from tensorflow.keras.models import Sequential\n",
    "from tensorflow.keras.layers import GlobalAveragePooling2D, Conv2D, MaxPooling2D, Flatten, Dense, Dropout\n",
    "from keras.preprocessing import image\n",
    "from tensorflow.keras.applications import InceptionV3\n",
    "import numpy as np\n",
    "from sklearn.neighbors import NearestNeighbors\n",
    "import matplotlib.pyplot as plt\n",
    "import os"
   ]
  },
  {
   "cell_type": "markdown",
   "id": "927882e0",
   "metadata": {},
   "source": [
    "### Splitting Dataset"
   ]
  },
  {
   "cell_type": "code",
   "execution_count": null,
   "id": "edb6f530",
   "metadata": {},
   "outputs": [],
   "source": [
    "train_datagen = ImageDataGenerator(rescale=1./255,\n",
    "                                   shear_range=0.2,\n",
    "                                   zoom_range=0.2,\n",
    "                                   horizontal_flip=True,\n",
    "                                   validation_split=0.2)\n",
    "\n",
    "training_set = train_datagen.flow_from_directory('dataset',\n",
    "                                                 target_size=(299, 299),\n",
    "                                                 batch_size=32,\n",
    "                                                 class_mode='categorical',\n",
    "                                                 subset='training')\n",
    "\n",
    "validation_set = train_datagen.flow_from_directory('dataset',\n",
    "                                                   target_size=(299, 299),\n",
    "                                                   batch_size=32,\n",
    "                                                   class_mode='categorical',\n",
    "                                                   subset='validation')"
   ]
  },
  {
   "cell_type": "markdown",
   "id": "e21c9bf5",
   "metadata": {},
   "source": [
    "### Training Model"
   ]
  },
  {
   "cell_type": "code",
   "execution_count": null,
   "id": "978d253f",
   "metadata": {},
   "outputs": [],
   "source": [
    "base_model = InceptionV3(weights='imagenet', include_top=False, input_shape=(299, 299, 3))\n",
    "\n",
    "for layer in base_model.layers[:40]:\n",
    "    layer.trainable = False\n",
    "for layer in base_model.layers[40:]:\n",
    "    layer.trainable = True\n",
    "\n",
    "new_classifier = Sequential([\n",
    "    GlobalAveragePooling2D(),\n",
    "    Dense(1024, activation='relu'),\n",
    "    Dropout(0.5),\n",
    "    Dense(10, activation='softmax')\n",
    "])\n",
    "\n",
    "cnn_model = Sequential([\n",
    "    base_model,\n",
    "    new_classifier \n",
    "])\n",
    "\n",
    "cnn_model.compile(optimizer='adam', loss='categorical_crossentropy', metrics=['accuracy'])\n",
    "\n",
    "history = cnn_model.fit(training_set, validation_data=validation_set, epochs=10)"
   ]
  },
  {
   "cell_type": "markdown",
   "id": "fcddc77f",
   "metadata": {},
   "source": [
    "### Extracting Image Features"
   ]
  },
  {
   "cell_type": "code",
   "execution_count": null,
   "id": "323bebdc",
   "metadata": {},
   "outputs": [],
   "source": [
    "from tensorflow.keras.preprocessing.image import load_img, img_to_array\n",
    "\n",
    "def extract_features_fixed(image_path, base_model):\n",
    "    img = load_img(image_path, target_size=(299, 299)) \n",
    "    img_array = img_to_array(img) / 255.0  \n",
    "    img_array = np.expand_dims(img_array, axis=0)  \n",
    "    features = base_model.predict(img_array)\n",
    "    return features.flatten()\n",
    "\n",
    "def create_feature_list(dataset_dir, base_model):\n",
    "    features_list = []\n",
    "    image_paths = []\n",
    "    \n",
    "    for subdir, dirs, files in os.walk(dataset_dir):\n",
    "        for file in files:\n",
    "            if file.endswith(('jpg', 'jpeg', 'png')):\n",
    "                file_path = os.path.join(subdir, file)\n",
    "                features = extract_features_fixed(file_path, base_model)\n",
    "                features_list.append(features)\n",
    "                image_paths.append(file_path)\n",
    "    \n",
    "    return np.array(features_list), image_paths\n",
    "\n",
    "features_list, image_paths = create_feature_list(\"dataset\", base_model)"
   ]
  },
  {
   "cell_type": "markdown",
   "id": "3a884809",
   "metadata": {},
   "source": [
    "### Finding Nearest Neighbors"
   ]
  },
  {
   "cell_type": "code",
   "execution_count": null,
   "id": "87d4dccd",
   "metadata": {},
   "outputs": [],
   "source": [
    "def find_nearest_images(image_path, base_model, n_neighbors=10):\n",
    "    \n",
    "    image_features = extract_features_fixed(image_path, base_model)\n",
    "    \n",
    "    neighbors = NearestNeighbors(n_neighbors=n_neighbors, metric='cosine')\n",
    "    neighbors.fit(features_list)\n",
    "    \n",
    "    distances, indices = neighbors.kneighbors([image_features])\n",
    "    \n",
    "    print(f\"Nearest images to {image_path}:\")\n",
    "    for i in range(n_neighbors):\n",
    "        print(f\"{image_paths[indices[0][i]]} - Distance: {distances[0][i]:.4f}\")\n",
    "    \n",
    "    plt.figure(figsize=(12, 6))\n",
    "    for i in range(n_neighbors):\n",
    "        img = load_img(image_paths[indices[0][i]], target_size=(299, 299))\n",
    "        plt.subplot(2, 5, i+1)\n",
    "        plt.imshow(img)\n",
    "        plt.axis('off')\n",
    "        plt.title(f\"Distance: {distances[0][i]:.4f}\")\n",
    "    plt.show()\n",
    "\n",
    "find_nearest_images('dataset/Motorbikes/image_0794.jpg', base_model, n_neighbors=10)\n",
    "find_nearest_images('photos/plane.jpg', base_model, n_neighbors=10)"
   ]
  }
 ],
 "metadata": {
  "kernelspec": {
   "display_name": "base",
   "language": "python",
   "name": "python3"
  },
  "language_info": {
   "codemirror_mode": {
    "name": "ipython",
    "version": 3
   },
   "file_extension": ".py",
   "mimetype": "text/x-python",
   "name": "python",
   "nbconvert_exporter": "python",
   "pygments_lexer": "ipython3",
   "version": "3.12.2"
  }
 },
 "nbformat": 4,
 "nbformat_minor": 5
}
