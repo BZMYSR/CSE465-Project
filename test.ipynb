{
 "cells": [
  {
   "cell_type": "code",
   "execution_count": null,
   "metadata": {},
   "outputs": [],
   "source": [
    "import torch\n",
    "import torchvision.models as models\n",
    "import torchvision.transforms as transforms\n",
    "from torchvision.datasets import ImageFolder\n",
    "from torch.utils.data import DataLoader\n",
    "import numpy as np\n",
    "from sklearn.metrics.pairwise import cosine_similarity"
   ]
  },
  {
   "cell_type": "code",
   "execution_count": null,
   "metadata": {},
   "outputs": [],
   "source": [
    "# Set the device to CUDA if available, else CPU\n",
    "device = torch.device('cuda' if torch.cuda.is_available() else 'cpu')\n",
    "torch.cuda.get_device_name(device=None)"
   ]
  },
  {
   "cell_type": "code",
   "execution_count": null,
   "metadata": {},
   "outputs": [],
   "source": [
    "# Setup transformations for the images\n",
    "transform = transforms.Compose([\n",
    "    transforms.Resize(256),\n",
    "    transforms.CenterCrop(224),\n",
    "    transforms.ToTensor(),\n",
    "    transforms.Normalize(mean=[0.485, 0.456, 0.406], std=[0.229, 0.224, 0.225]),\n",
    "])"
   ]
  },
  {
   "cell_type": "code",
   "execution_count": null,
   "metadata": {},
   "outputs": [],
   "source": [
    "# Load the dataset from the class-wise folders\n",
    "dataset = ImageFolder(root='Datasets', transform=transform)\n",
    "dataloader = DataLoader(dataset, batch_size=32, shuffle=True)"
   ]
  },
  {
   "cell_type": "code",
   "execution_count": null,
   "metadata": {},
   "outputs": [],
   "source": [
    "# Load pre-trained models\n",
    "resnet = models.resnet101(pretrained=True)\n",
    "resnet.eval()  # Set to evaluation mode\n",
    "googlenet = models.googlenet(pretrained=True)\n",
    "googlenet.eval()\n",
    "zfnet = models.alexnet(pretrained=True)\n",
    "zfnet.eval()"
   ]
  },
  {
   "cell_type": "code",
   "execution_count": null,
   "metadata": {},
   "outputs": [],
   "source": [
    "# Function to extract features\n",
    "def extract_features(model, dataloader):\n",
    "    features = []\n",
    "    model.eval()\n",
    "    with torch.no_grad():\n",
    "        for images, _ in dataloader:\n",
    "            images = images.to('cuda' if torch.cuda.is_available() else 'cpu')\n",
    "            outputs = model(images)\n",
    "            features.extend(outputs.cpu().numpy())\n",
    "    return np.array(features)"
   ]
  },
  {
   "cell_type": "code",
   "execution_count": null,
   "metadata": {},
   "outputs": [],
   "source": [
    "# Move models to the same device as the input tensor\n",
    "resnet.to(device)\n",
    "googlenet.to(device)\n",
    "zfnet.to(device)\n",
    "\n",
    "# Extract features using ResNet-101, Google Net and ZFNet\n",
    "resnet_features = extract_features(resnet, dataloader)\n",
    "googlenet_features = extract_features(googlenet, dataloader)\n",
    "zfnet_features = extract_features(zfnet, dataloader)"
   ]
  },
  {
   "cell_type": "code",
   "execution_count": null,
   "metadata": {},
   "outputs": [],
   "source": [
    "import matplotlib.pyplot as plt\n",
    "\n",
    "# Calculate Nearest Neighbors\n",
    "def find_nearest_neighbors(features, n_neighbors=10):\n",
    "    similarity_matrix = cosine_similarity(features)\n",
    "    neighbors = np.argsort(similarity_matrix, axis=1)[:, -n_neighbors-1:-1]\n",
    "    return neighbors\n",
    "\n",
    "resnet_neighbors = find_nearest_neighbors(resnet_features)\n",
    "zfnet_neighbors = find_nearest_neighbors(zfnet_features)\n",
    "googlenet_neighbors = find_nearest_neighbors(googlenet_features)\n",
    "\n",
    "# Visualize Nearest Neighbors\n",
    "def plot_neighbors(image_idx, neighbors, model_name):\n",
    "    fig, axs = plt.subplots(1, 11, figsize=(15, 2))\n",
    "    fig.suptitle(f\"{model_name} Nearest Neighbors for Image {image_idx}\")\n",
    "\n",
    "    # Show query image\n",
    "    query_image, _ = dataset[image_idx]\n",
    "    axs[0].imshow(query_image.permute(1, 2, 0).numpy())\n",
    "    axs[0].set_title(\"Query\")\n",
    "    axs[0].axis('off')\n",
    "\n",
    "    # Show neighbors\n",
    "    for i, neighbor_idx in enumerate(neighbors[image_idx]):\n",
    "        neighbor_image, _ = dataset[neighbor_idx]\n",
    "        axs[i + 1].imshow(neighbor_image.permute(1, 2, 0).numpy())\n",
    "        axs[i + 1].axis('off')\n",
    "\n",
    "    plt.show()\n",
    "\n",
    "# Example: Display neighbors for a sample image index using each model\n",
    "image_idx = 2500 # Change this to visualize different images\n",
    "plot_neighbors(image_idx, resnet_neighbors, \"ResNet-101\")\n",
    "plot_neighbors(image_idx, zfnet_neighbors, \"ZFNet\")\n",
    "plot_neighbors(image_idx, googlenet_neighbors, \"GoogleNet\")"
   ]
  },
  {
   "cell_type": "code",
   "execution_count": null,
   "metadata": {},
   "outputs": [],
   "source": [
    "# Function to find nearest neighbors\n",
    "def find_nearest_neighbors(features, index, num_neighbors=10):\n",
    "    similarities = cosine_similarity([features[index]], features)[0]\n",
    "    nearest_indices = np.argsort(-similarities)[1:num_neighbors+1]  # Top 10 excluding self\n",
    "    return nearest_indices\n",
    "\n",
    "# Example usage for one image per class (assuming balanced classes for simplicity)\n",
    "num_classes = len(dataset.classes)\n",
    "class_indices = {i: [] for i in range(num_classes)}\n",
    "for idx, (_, label) in enumerate(dataset):\n",
    "    class_indices[label].append(idx)\n",
    "\n",
    "# Find and print nearest neighbors for one image from each class\n"
   ]
  },
  {
   "cell_type": "code",
   "execution_count": null,
   "metadata": {},
   "outputs": [],
   "source": [
    "for label, indices in class_indices.items():\n",
    "    representative_idx = indices[0]  # Just taking the first image for simplicity\n",
    "    neighbors = find_nearest_neighbors(resnet_features, representative_idx)\n",
    "    print(f\"Class {label} representative image at index {representative_idx} has neighbors indices: {neighbors}\")\n"
   ]
  },
  {
   "cell_type": "code",
   "execution_count": null,
   "metadata": {},
   "outputs": [],
   "source": [
    "for label, indices in class_indices.items():\n",
    "    representative_idx = indices[0]  # Just taking the first image for simplicity\n",
    "    neighbors = find_nearest_neighbors(googlenet_features, representative_idx)\n",
    "    print(f\"Class {label} representative image at index {representative_idx} has neighbors indices: {neighbors}\")\n"
   ]
  },
  {
   "cell_type": "code",
   "execution_count": null,
   "metadata": {},
   "outputs": [],
   "source": [
    "# for label, indices in class_indices.items():\n",
    "#     representative_idx = indices[0]  # Just taking the first image for simplicity\n",
    "#     neighbors = find_nearest_neighbors(zfnet_features, representative_idx)\n",
    "#     print(f\"Class {label} representative image at index {representative_idx} has neighbors indices: {neighbors}\")\n"
   ]
  }
 ],
 "metadata": {
  "kernelspec": {
   "display_name": "base",
   "language": "python",
   "name": "python3"
  },
  "language_info": {
   "codemirror_mode": {
    "name": "ipython",
    "version": 3
   },
   "file_extension": ".py",
   "mimetype": "text/x-python",
   "name": "python",
   "nbconvert_exporter": "python",
   "pygments_lexer": "ipython3",
   "version": "3.12.2"
  }
 },
 "nbformat": 4,
 "nbformat_minor": 2
}
