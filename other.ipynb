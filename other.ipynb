{
 "cells": [
  {
   "cell_type": "code",
   "execution_count": null,
   "metadata": {},
   "outputs": [],
   "source": [
    "import torch\n",
    "import torch.nn as nn\n",
    "import torchvision.transforms as transforms\n",
    "import torchvision.datasets as datasets\n",
    "from torchvision import models\n",
    "from sklearn.neighbors import NearestNeighbors\n",
    "import numpy as np\n",
    "from tqdm import tqdm"
   ]
  },
  {
   "cell_type": "code",
   "execution_count": null,
   "metadata": {},
   "outputs": [],
   "source": [
    "# Check for GPU\n",
    "device = torch.device(\"cuda\" if torch.cuda.is_available() else \"cpu\")\n",
    "print(f\"Using device: {device}\")"
   ]
  },
  {
   "cell_type": "code",
   "execution_count": null,
   "metadata": {},
   "outputs": [],
   "source": [
    "transform = transforms.Compose([\n",
    "    transforms.Resize((224, 224)),  \n",
    "    transforms.ToTensor(),\n",
    "    transforms.Normalize(mean=[0.485, 0.456, 0.406], std=[0.229, 0.224, 0.225])\n",
    "])\n",
    "\n",
    "dataset = datasets.ImageFolder(root='Datasets', transform=transform)\n",
    "dataloader = torch.utils.data.DataLoader(dataset, batch_size=32, shuffle=False)"
   ]
  },
  {
   "cell_type": "code",
   "execution_count": null,
   "metadata": {},
   "outputs": [],
   "source": [
    "# Load Pretrained Models\n",
    "resnet_model = models.resnet101(pretrained=True).to(device).eval()\n",
    "zfnet_model = models.alexnet(pretrained=True).to(device).eval()  # ZFNet approximated with AlexNet\n",
    "googlenet_model = models.googlenet(pretrained=True).to(device).eval()\n",
    "\n",
    "def extract_features(model, dataloader):\n",
    "    model.eval()\n",
    "    features = []\n",
    "    labels = []\n",
    "    with torch.no_grad():\n",
    "        for images, label in tqdm(dataloader):\n",
    "            images = images.to(device)\n",
    "            output = model(images)\n",
    "            features.append(output)\n",
    "            labels.append(label)\n",
    "    return torch.cat(features), torch.cat(labels)\n",
    "\n",
    "# Extract features for ResNet, ZFNet, and GoogleNet\n",
    "resnet_features, resnet_labels = extract_features(resnet_model, dataloader)\n",
    "zfnet_features, zfnet_labels = extract_features(zfnet_model, dataloader)\n",
    "googlenet_features, googlenet_labels = extract_features(googlenet_model, dataloader)"
   ]
  },
  {
   "cell_type": "code",
   "execution_count": null,
   "metadata": {},
   "outputs": [],
   "source": [
    "resnet_features_np = resnet_features.cpu().numpy()\n",
    "zfnet_features_np = zfnet_features.cpu().numpy()\n",
    "googlenet_features_np = googlenet_features.cpu().numpy()\n",
    "\n",
    "def find_nearest_neighbors(features, query_feature, k=10):\n",
    "    nbrs = NearestNeighbors(n_neighbors=k, algorithm='auto').fit(features)\n",
    "    distances, indices = nbrs.kneighbors([query_feature])\n",
    "    return distances, indices"
   ]
  },
  {
   "cell_type": "code",
   "execution_count": null,
   "metadata": {},
   "outputs": [],
   "source": [
    "class_sample_indices = {class_id: np.where(resnet_labels.cpu().numpy() == class_id)[0][0] for class_id in np.unique(resnet_labels.cpu().numpy())}\n",
    "for class_id, img_index in class_sample_indices.items():\n",
    "    print(f\"\\nClass {class_id}:\")\n",
    "    query_feature = resnet_features_np[img_index]\n",
    "    distances, indices = find_nearest_neighbors(resnet_features_np, query_feature, k=10)\n",
    "    print(\"ResNet Neighbors:\", indices[0])\n",
    "\n",
    "    # Repeat for ZFNet and GoogleNet for comparison\n",
    "    query_feature_zf = zfnet_features_np[img_index]\n",
    "    distances_zf, indices_zf = find_nearest_neighbors(zfnet_features_np, query_feature_zf, k=10)\n",
    "    print(\"ZFNet Neighbors:\", indices_zf[0])\n",
    "\n",
    "    query_feature_google = googlenet_features_np[img_index]\n",
    "    distances_google, indices_google = find_nearest_neighbors(googlenet_features_np, query_feature_google, k=10)\n",
    "    print(\"GoogleNet Neighbors:\", indices_google[0])"
   ]
  }
 ],
 "metadata": {
  "kernelspec": {
   "display_name": "base",
   "language": "python",
   "name": "python3"
  },
  "language_info": {
   "codemirror_mode": {
    "name": "ipython",
    "version": 3
   },
   "file_extension": ".py",
   "mimetype": "text/x-python",
   "name": "python",
   "nbconvert_exporter": "python",
   "pygments_lexer": "ipython3",
   "version": "3.12.2"
  }
 },
 "nbformat": 4,
 "nbformat_minor": 2
}
