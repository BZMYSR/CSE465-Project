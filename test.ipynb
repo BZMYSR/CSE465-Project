{
 "cells": [
  {
   "cell_type": "code",
   "execution_count": 23,
   "metadata": {},
   "outputs": [],
   "source": [
    "import torch\n",
    "import torchvision.models as models\n",
    "import torchvision.transforms as transforms\n",
    "from torchvision.datasets import ImageFolder\n",
    "from torch.utils.data import DataLoader\n",
    "import numpy as np\n",
    "from sklearn.metrics.pairwise import cosine_similarity"
   ]
  },
  {
   "cell_type": "code",
   "execution_count": 24,
   "metadata": {},
   "outputs": [
    {
     "name": "stdout",
     "output_type": "stream",
     "text": [
      "Using device: cuda\n"
     ]
    }
   ],
   "source": [
    "# Set the device to CUDA if available, else CPU\n",
    "device = torch.device('cuda' if torch.cuda.is_available() else 'cpu')\n",
    "print(f'Using device: {device}')"
   ]
  },
  {
   "cell_type": "code",
   "execution_count": 25,
   "metadata": {},
   "outputs": [],
   "source": [
    "# Setup transformations for the images\n",
    "transform = transforms.Compose([\n",
    "    transforms.Resize(256),\n",
    "    transforms.CenterCrop(224),\n",
    "    transforms.ToTensor(),\n",
    "    transforms.Normalize(mean=[0.485, 0.456, 0.406], std=[0.229, 0.224, 0.225]),\n",
    "])"
   ]
  },
  {
   "cell_type": "code",
   "execution_count": 26,
   "metadata": {},
   "outputs": [],
   "source": [
    "# Load the dataset from the class-wise folders\n",
    "dataset = ImageFolder(root='Datasets', transform=transform)\n",
    "dataloader = DataLoader(dataset, batch_size=32, shuffle=True)"
   ]
  },
  {
   "cell_type": "code",
   "execution_count": 27,
   "metadata": {},
   "outputs": [
    {
     "name": "stderr",
     "output_type": "stream",
     "text": [
      "/home/bzmysr/anaconda3/lib/python3.12/site-packages/torchvision/models/_utils.py:208: UserWarning: The parameter 'pretrained' is deprecated since 0.13 and may be removed in the future, please use 'weights' instead.\n",
      "  warnings.warn(\n",
      "/home/bzmysr/anaconda3/lib/python3.12/site-packages/torchvision/models/_utils.py:223: UserWarning: Arguments other than a weight enum or `None` for 'weights' are deprecated since 0.13 and may be removed in the future. The current behavior is equivalent to passing `weights=ResNet101_Weights.IMAGENET1K_V1`. You can also use `weights=ResNet101_Weights.DEFAULT` to get the most up-to-date weights.\n",
      "  warnings.warn(msg)\n",
      "/home/bzmysr/anaconda3/lib/python3.12/site-packages/torchvision/models/_utils.py:223: UserWarning: Arguments other than a weight enum or `None` for 'weights' are deprecated since 0.13 and may be removed in the future. The current behavior is equivalent to passing `weights=GoogLeNet_Weights.IMAGENET1K_V1`. You can also use `weights=GoogLeNet_Weights.DEFAULT` to get the most up-to-date weights.\n",
      "  warnings.warn(msg)\n",
      "/home/bzmysr/anaconda3/lib/python3.12/site-packages/torchvision/models/_utils.py:223: UserWarning: Arguments other than a weight enum or `None` for 'weights' are deprecated since 0.13 and may be removed in the future. The current behavior is equivalent to passing `weights=AlexNet_Weights.IMAGENET1K_V1`. You can also use `weights=AlexNet_Weights.DEFAULT` to get the most up-to-date weights.\n",
      "  warnings.warn(msg)\n"
     ]
    },
    {
     "data": {
      "text/plain": [
       "AlexNet(\n",
       "  (features): Sequential(\n",
       "    (0): Conv2d(3, 64, kernel_size=(11, 11), stride=(4, 4), padding=(2, 2))\n",
       "    (1): ReLU(inplace=True)\n",
       "    (2): MaxPool2d(kernel_size=3, stride=2, padding=0, dilation=1, ceil_mode=False)\n",
       "    (3): Conv2d(64, 192, kernel_size=(5, 5), stride=(1, 1), padding=(2, 2))\n",
       "    (4): ReLU(inplace=True)\n",
       "    (5): MaxPool2d(kernel_size=3, stride=2, padding=0, dilation=1, ceil_mode=False)\n",
       "    (6): Conv2d(192, 384, kernel_size=(3, 3), stride=(1, 1), padding=(1, 1))\n",
       "    (7): ReLU(inplace=True)\n",
       "    (8): Conv2d(384, 256, kernel_size=(3, 3), stride=(1, 1), padding=(1, 1))\n",
       "    (9): ReLU(inplace=True)\n",
       "    (10): Conv2d(256, 256, kernel_size=(3, 3), stride=(1, 1), padding=(1, 1))\n",
       "    (11): ReLU(inplace=True)\n",
       "    (12): MaxPool2d(kernel_size=3, stride=2, padding=0, dilation=1, ceil_mode=False)\n",
       "  )\n",
       "  (avgpool): AdaptiveAvgPool2d(output_size=(6, 6))\n",
       "  (classifier): Sequential(\n",
       "    (0): Dropout(p=0.5, inplace=False)\n",
       "    (1): Linear(in_features=9216, out_features=4096, bias=True)\n",
       "    (2): ReLU(inplace=True)\n",
       "    (3): Dropout(p=0.5, inplace=False)\n",
       "    (4): Linear(in_features=4096, out_features=4096, bias=True)\n",
       "    (5): ReLU(inplace=True)\n",
       "    (6): Linear(in_features=4096, out_features=1000, bias=True)\n",
       "  )\n",
       ")"
      ]
     },
     "execution_count": 27,
     "metadata": {},
     "output_type": "execute_result"
    }
   ],
   "source": [
    "# Load pre-trained models\n",
    "resnet = models.resnet101(pretrained=True)\n",
    "resnet.eval()  # Set to evaluation mode\n",
    "googlenet = models.googlenet(pretrained=True)\n",
    "googlenet.eval()\n",
    "zfnet = models.alexnet(pretrained=True)\n",
    "zfnet.eval()"
   ]
  },
  {
   "cell_type": "code",
   "execution_count": 28,
   "metadata": {},
   "outputs": [],
   "source": [
    "# Function to extract features\n",
    "def extract_features(model, dataloader):\n",
    "    features = []\n",
    "    model.eval()\n",
    "    with torch.no_grad():\n",
    "        for images, _ in dataloader:\n",
    "            images = images.to('cuda' if torch.cuda.is_available() else 'cpu')\n",
    "            outputs = model(images)\n",
    "            features.extend(outputs.cpu().numpy())\n",
    "    return np.array(features)"
   ]
  },
  {
   "cell_type": "code",
   "execution_count": 31,
   "metadata": {},
   "outputs": [],
   "source": [
    "# Move models to the same device as the input tensor\n",
    "resnet.to(device)\n",
    "googlenet.to(device)\n",
    "zfnet.to(device)\n",
    "\n",
    "# Extract features using ResNet-101, Google Net and ZFNet\n",
    "resnet_features = extract_features(resnet, dataloader)\n",
    "googlenet_features = extract_features(googlenet, dataloader)\n",
    "zfnet_features = extract_features(zfnet, dataloader)"
   ]
  },
  {
   "cell_type": "code",
   "execution_count": 32,
   "metadata": {},
   "outputs": [],
   "source": [
    "# Function to find nearest neighbors\n",
    "def find_nearest_neighbors(features, index, num_neighbors=10):\n",
    "    similarities = cosine_similarity([features[index]], features)[0]\n",
    "    nearest_indices = np.argsort(-similarities)[1:num_neighbors+1]  # Top 10 excluding self\n",
    "    return nearest_indices\n",
    "\n",
    "# Example usage for one image per class (assuming balanced classes for simplicity)\n",
    "num_classes = len(dataset.classes)\n",
    "class_indices = {i: [] for i in range(num_classes)}\n",
    "for idx, (_, label) in enumerate(dataset):\n",
    "    class_indices[label].append(idx)\n",
    "\n",
    "# Find and print nearest neighbors for one image from each class\n"
   ]
  },
  {
   "cell_type": "code",
   "execution_count": 33,
   "metadata": {},
   "outputs": [
    {
     "name": "stdout",
     "output_type": "stream",
     "text": [
      "Class 0 representative image at index 0 has neighbors indices: [1247 1400  126  364  778   29 2016 2452 2141  903]\n",
      "Class 1 representative image at index 435 has neighbors indices: [2394  472 2286 2661  880 1032 1711  579  870 1132]\n",
      "Class 2 representative image at index 635 has neighbors indices: [2485  155 2691 2582 1097 2747 1588  512 1942  175]\n",
      "Class 3 representative image at index 1433 has neighbors indices: [ 859 1904 1879  870  253 1132 1747  472 2286 1552]\n",
      "Class 4 representative image at index 2233 has neighbors indices: [ 931  765 2997 2258 2765 2445  449 1115  424 1349]\n",
      "Class 5 representative image at index 2356 has neighbors indices: [1456 1878 1073  496 1738 2617  890 1586 2316  647]\n",
      "Class 6 representative image at index 2463 has neighbors indices: [2872 2916  504  334  335 1821 1231  476 2130 2404]\n",
      "Class 7 representative image at index 2562 has neighbors indices: [ 132 1960 2660 2204  375  328  947  690 2685  493]\n",
      "Class 8 representative image at index 2662 has neighbors indices: [1855 2854  914  558 1555  768  791  144  611 1638]\n",
      "Class 9 representative image at index 2776 has neighbors indices: [ 717 2966   18 1077 2558 1449 1739 2962 2339 1323]\n"
     ]
    }
   ],
   "source": [
    "for label, indices in class_indices.items():\n",
    "    representative_idx = indices[0]  # Just taking the first image for simplicity\n",
    "    neighbors = find_nearest_neighbors(resnet_features, representative_idx)\n",
    "    print(f\"Class {label} representative image at index {representative_idx} has neighbors indices: {neighbors}\")\n"
   ]
  },
  {
   "cell_type": "code",
   "execution_count": 34,
   "metadata": {},
   "outputs": [
    {
     "name": "stdout",
     "output_type": "stream",
     "text": [
      "Class 0 representative image at index 0 has neighbors indices: [2498 2992 2873 2500 1275 2099 1946  829 1645 2670]\n",
      "Class 1 representative image at index 435 has neighbors indices: [  43  785  157 2910 1583  822 1151  369  811 2692]\n",
      "Class 2 representative image at index 635 has neighbors indices: [1473 2415  899 2128 1995   84 1567 2260  731  115]\n",
      "Class 3 representative image at index 1433 has neighbors indices: [ 442  766 2485 1471  859 1509  890 2177  368  136]\n",
      "Class 4 representative image at index 2233 has neighbors indices: [ 760  729  229 2185  507  386 1307  446  255 2282]\n",
      "Class 5 representative image at index 2356 has neighbors indices: [ 674 1256  193 1891  179 1334 2955 2328 1415  295]\n",
      "Class 6 representative image at index 2463 has neighbors indices: [2468 1026 1018 1366 1865 3014  625 1693  544 2858]\n",
      "Class 7 representative image at index 2562 has neighbors indices: [  50 1976  209  793  869 2307  527  318  407 2699]\n",
      "Class 8 representative image at index 2662 has neighbors indices: [ 460  787   25  205 2536 2503 1705 1474 1809 1669]\n",
      "Class 9 representative image at index 2776 has neighbors indices: [ 215  300  370  781 2025 2494 1581  605   64 1598]\n"
     ]
    }
   ],
   "source": [
    "for label, indices in class_indices.items():\n",
    "    representative_idx = indices[0]  # Just taking the first image for simplicity\n",
    "    neighbors = find_nearest_neighbors(googlenet_features, representative_idx)\n",
    "    print(f\"Class {label} representative image at index {representative_idx} has neighbors indices: {neighbors}\")\n"
   ]
  },
  {
   "cell_type": "code",
   "execution_count": 35,
   "metadata": {},
   "outputs": [],
   "source": [
    "# for label, indices in class_indices.items():\n",
    "#     representative_idx = indices[0]  # Just taking the first image for simplicity\n",
    "#     neighbors = find_nearest_neighbors(zfnet_features, representative_idx)\n",
    "#     print(f\"Class {label} representative image at index {representative_idx} has neighbors indices: {neighbors}\")\n"
   ]
  }
 ],
 "metadata": {
  "kernelspec": {
   "display_name": "base",
   "language": "python",
   "name": "python3"
  },
  "language_info": {
   "codemirror_mode": {
    "name": "ipython",
    "version": 3
   },
   "file_extension": ".py",
   "mimetype": "text/x-python",
   "name": "python",
   "nbconvert_exporter": "python",
   "pygments_lexer": "ipython3",
   "version": "3.12.2"
  }
 },
 "nbformat": 4,
 "nbformat_minor": 2
}
